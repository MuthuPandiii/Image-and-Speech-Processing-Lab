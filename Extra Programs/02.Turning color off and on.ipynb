{
 "cells": [
  {
   "cell_type": "code",
   "execution_count": 3,
   "id": "f6af97b5",
   "metadata": {},
   "outputs": [],
   "source": [
    "import cv2"
   ]
  },
  {
   "cell_type": "code",
   "execution_count": 6,
   "id": "57d8753e",
   "metadata": {},
   "outputs": [],
   "source": [
    "def main():\n",
    "    img = cv2.imread('Images/image 1.jpg',1)\n",
    "    cv2.imshow(\"Color Image \",img)\n",
    "    key = cv2.waitKey()\n",
    "    if key == ord('s'):\n",
    "        cv2.destroyAllWindows()\n",
    "        grayscale()\n",
    "    elif key == ord('q'):\n",
    "        cv2.destroyAllWindows()\n",
    "        \n",
    "    \n",
    "def grayscale():\n",
    "    img_ = cv2.imread('Images/image 1.jpg',0)\n",
    "    cv2.imshow(\"GrayScale Image \",img_)\n",
    "    key = cv2.waitKey()\n",
    "    if key == ord('s'):\n",
    "        cv2.destroyAllWindows()\n",
    "        main()\n",
    "    elif key == ord('q'):\n",
    "        cv2.destroyAllWindows()\n",
    "        "
   ]
  },
  {
   "cell_type": "code",
   "execution_count": 7,
   "id": "e150758f",
   "metadata": {},
   "outputs": [],
   "source": [
    "main()"
   ]
  },
  {
   "cell_type": "code",
   "execution_count": null,
   "id": "78b1ada6",
   "metadata": {},
   "outputs": [],
   "source": []
  }
 ],
 "metadata": {
  "kernelspec": {
   "display_name": "Python 3",
   "language": "python",
   "name": "python3"
  },
  "language_info": {
   "codemirror_mode": {
    "name": "ipython",
    "version": 3
   },
   "file_extension": ".py",
   "mimetype": "text/x-python",
   "name": "python",
   "nbconvert_exporter": "python",
   "pygments_lexer": "ipython3",
   "version": "3.8.8"
  }
 },
 "nbformat": 4,
 "nbformat_minor": 5
}

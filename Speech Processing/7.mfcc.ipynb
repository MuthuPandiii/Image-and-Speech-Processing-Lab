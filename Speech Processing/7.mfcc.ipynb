{
 "cells": [
  {
   "cell_type": "code",
   "execution_count": 1,
   "id": "5a4fbe39",
   "metadata": {},
   "outputs": [],
   "source": [
    "import librosa\n"
   ]
  },
  {
   "cell_type": "code",
   "execution_count": 3,
   "id": "88e19ca5",
   "metadata": {},
   "outputs": [
    {
     "name": "stdout",
     "output_type": "stream",
     "text": [
      "MFCC Feature : [[-501.817     -484.33502   -485.54465   ... -474.35324   -472.92087\n",
      "  -469.3723   ]\n",
      " [  52.673424    61.39467     59.824066  ...   58.351696    48.296776\n",
      "    39.37509  ]\n",
      " [  34.51333     33.859676    34.102962  ...   27.366447    34.824203\n",
      "    37.17705  ]\n",
      " ...\n",
      " [ -10.273136   -10.4189825   -8.541954  ...   -9.578205   -14.708258\n",
      "   -19.774916 ]\n",
      " [  -5.480769    -5.497099    -6.3256493 ...   -3.9518738   -4.279425\n",
      "    -5.469692 ]\n",
      " [  -0.7266715    1.4969554   -2.0135732 ...   -5.4130588   -7.7400894\n",
      "    -8.37263  ]]\n"
     ]
    }
   ],
   "source": [
    "y,sr = librosa.load('auds/sample2.wav',sr = 8000)\n",
    "print(f'MFCC Feature : {librosa.feature.mfcc(y=y,sr=sr,n_mfcc=13)}')"
   ]
  },
  {
   "cell_type": "code",
   "execution_count": null,
   "id": "a6e7338e",
   "metadata": {},
   "outputs": [],
   "source": []
  }
 ],
 "metadata": {
  "kernelspec": {
   "display_name": "Python 3",
   "language": "python",
   "name": "python3"
  },
  "language_info": {
   "codemirror_mode": {
    "name": "ipython",
    "version": 3
   },
   "file_extension": ".py",
   "mimetype": "text/x-python",
   "name": "python",
   "nbconvert_exporter": "python",
   "pygments_lexer": "ipython3",
   "version": "3.8.8"
  }
 },
 "nbformat": 4,
 "nbformat_minor": 5
}
